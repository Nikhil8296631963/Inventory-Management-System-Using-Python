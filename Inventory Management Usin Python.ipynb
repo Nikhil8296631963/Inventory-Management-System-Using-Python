{
 "cells": [
  {
   "cell_type": "code",
   "execution_count": 35,
   "metadata": {},
   "outputs": [],
   "source": [
    "inventory={1000:{'Product':\"5 start\",'Prize':10,'Quantity':50,'status':\"In-stock\",\"Supplier\":\"Hithesh\"},\n",
    "              1001:{'Product':\"Lays\",'Prize':5,'Quantity':500,'status':\"In-stock\",\"Supplier\":\"Nikhil\"},\n",
    "              1002:{'Product':\"Chips\",'Prize':5,'Quantity':100,'status':\"In-stock\",\"Supplier\":\"Niranjan\"},\n",
    "              1003:{'Product':\"Coco kola\",'Prize':55,'Quantity':50,'status':\"In-stock\",\"Supplier\":\"Anil\"},\n",
    "              1004:{'Product':\"Sprite\",'Prize':45,'Quantity':30,'status':\"In-stock\",\"Supplier\":\"Devid\"},\n",
    "              1005:{'Product':\"Parle-G\",'Prize':10,'Quantity':60,'status':\"In-stock\",\"Supplier\":\"Avinash\"},\n",
    "              1006:{'Product':\"Sunflower oil\",'Prize':55,'Quantity':60,'status':\"In-stock\",\"Supplier\":\"Hilum\"},\n",
    "              1007:{'Product':\"Pista\",'Prize':15,'Quantity':20,'status':\"In-stock\",\"Supplier\":\"Kelvin\"},\n",
    "              1008:{'Product':\"Coconut Oil\",'Prize':25,'Quantity':30,'status':\"In-stock\",\"Supplier\":\"Chalie\"},\n",
    "              1009:{'Product':\"Jira oil\",'Prize':35,'Quantity':40,'status':\"In-stock\",\"Supplier\":\"Devid\"},\n",
    "              1010:{'Product':\"20-20\",'Prize':20,'Quantity':23,'status':\"In-stock\",\"Supplier\":\"Balu\"},\n",
    "              1011:{'Product':\"Nandini Milk\",'Prize':22,'Quantity':25,'status':\"In-stock\",\"Supplier\":\"Hithesh\"},\n",
    "              1012:{'Product':\"Kurukure\",'Prize':5,'Quantity':30,'status':\"In-stock\",\"Supplier\":\"Nikhil\"},\n",
    "              1013:{'Product':\"Bingo\",'Prize':10,'Quantity':30,'status':\"In-stock\",\"Supplier\":\"Niranjan\"},\n",
    "              1014:{'Product':\"50-50\",'Prize':5,'Quantity':25,'status':\"In-stock\",\"Supplier\":\"Anil\"},\n",
    "              1015:{'Product':\"Dairy Milk\",'Prize':50,'Quantity':20,'status':\"In-stock\",\"Supplier\":\"Avinash\"},\n",
    "              1016:{'Product':\"Hair Oil\",'Prize':10,'Quantity':23,'status':\"In-stocck\",\"Supplier\":\"Hilum\"},\n",
    "              1017:{'Product':\"Comb\",'Prize':15,'Quantity':20,'status':\"In-stock\",\"Supplier\":\"Kelvin\"},\n",
    "              1018:{'Product':\"Masala puri\",'Prize':20,'Quantity':30,'status':\"In-stock\",\"Supplier\":\"Chalie\"},\n",
    "              1019:{'Product':\"Candy\",'Prize':35,'Quantity':40,'status':\"In-stock\",\"Supplier\":\"Devid\"},\n",
    "              1020:{'Product':\"Almond\",'Prize':20,'Quantity':25,'status':\"In-stock\",\"Supplier\":\"Balu\"},\n",
    "              1021:{'Product':\"Hair pin\",'Prize':10,'Quantity':50,'status':\"In-stock\",\"Supplier\":\"Hithesh\"},\n",
    "              1022:{'Product':\"Facewash\",'Prize':25,'Quantity':15,'status':\"In-stock\",\"Supplier\":\"Nikhil\"},\n",
    "              1023:{'Product':\"Charger\",'Prize':205,'Quantity':10,'status':\"In-stock\",\"Supplier\":\"Niranjan\"},\n",
    "              1024:{'Product':\"Cashew\",'Prize':10,'Quantity':50,'status':\"In-stock\",\"Supplier\":\"Anil\"},\n",
    "              1025:{'Product':\"Gooday\",'Prize':10,'Quantity':30,'status':\"In-stock\",\"Supplier\":\"Devid\"},\n",
    "              1026:{'Product':\"Coffe powder\",'Prize':25,'Quantity':60,'status':\"In-stock\",\"Supplier\":\"Avinash\"},\n",
    "              1027:{'Product':\"Turmeric powder\",'Prize':15,'Quantity':25,'status':\"In-stock\",\"Supplier\":\"Hilum\"},\n",
    "              1028:{'Product':\"Chilli powder\",'Prize':15,'Quantity':20,'status':\"In-stock\",\"Supplier\":\"Kelvin\"},\n",
    "              1029:{'Product':\"Refile oil\",'Prize':25,'Quantity':30,'status':\"In-stock\",\"Supplier\":\"Chalie\"},\n",
    "              1030:{'Product':\"Glucose\",'Prize':35,'Quantity':40,'status':\"In-stock\",\"Supplier\":\"Devid\"}}\n",
    "              "
   ]
  },
  {
   "cell_type": "code",
   "execution_count": 17,
   "metadata": {},
   "outputs": [],
   "source": [
    "#inventory.pop(1005)"
   ]
  },
  {
   "cell_type": "code",
   "execution_count": 36,
   "metadata": {},
   "outputs": [
    {
     "data": {
      "text/plain": [
       "{1000: {'Product': '5 start',\n",
       "  'Prize': 10,\n",
       "  'Quantity': 50,\n",
       "  'status': 'In-stock',\n",
       "  'Supplier': 'Hithesh'},\n",
       " 1001: {'Product': 'Lays',\n",
       "  'Prize': 5,\n",
       "  'Quantity': 500,\n",
       "  'status': 'In-stock',\n",
       "  'Supplier': 'Nikhil'},\n",
       " 1002: {'Product': 'Chips',\n",
       "  'Prize': 5,\n",
       "  'Quantity': 100,\n",
       "  'status': 'In-stock',\n",
       "  'Supplier': 'Niranjan'},\n",
       " 1003: {'Product': 'Coco kola',\n",
       "  'Prize': 55,\n",
       "  'Quantity': 50,\n",
       "  'status': 'In-stock',\n",
       "  'Supplier': 'Anil'},\n",
       " 1004: {'Product': 'Sprite',\n",
       "  'Prize': 45,\n",
       "  'Quantity': 30,\n",
       "  'status': 'In-stock',\n",
       "  'Supplier': 'Devid'},\n",
       " 1005: {'Product': 'Parle-G',\n",
       "  'Prize': 10,\n",
       "  'Quantity': 60,\n",
       "  'status': 'In-stock',\n",
       "  'Supplier': 'Avinash'},\n",
       " 1006: {'Product': 'Sunflower oil',\n",
       "  'Prize': 55,\n",
       "  'Quantity': 60,\n",
       "  'status': 'In-stock',\n",
       "  'Supplier': 'Hilum'},\n",
       " 1007: {'Product': 'Pista',\n",
       "  'Prize': 15,\n",
       "  'Quantity': 20,\n",
       "  'status': 'In-stock',\n",
       "  'Supplier': 'Kelvin'},\n",
       " 1008: {'Product': 'Coconut Oil',\n",
       "  'Prize': 25,\n",
       "  'Quantity': 30,\n",
       "  'status': 'In-stock',\n",
       "  'Supplier': 'Chalie'},\n",
       " 1009: {'Product': 'Jira oil',\n",
       "  'Prize': 35,\n",
       "  'Quantity': 40,\n",
       "  'status': 'In-stock',\n",
       "  'Supplier': 'Devid'},\n",
       " 1010: {'Product': '20-20',\n",
       "  'Prize': 20,\n",
       "  'Quantity': 23,\n",
       "  'status': 'In-stock',\n",
       "  'Supplier': 'Balu'},\n",
       " 1011: {'Product': 'Nandini Milk',\n",
       "  'Prize': 22,\n",
       "  'Quantity': 25,\n",
       "  'status': 'In-stock',\n",
       "  'Supplier': 'Hithesh'},\n",
       " 1012: {'Product': 'Kurukure',\n",
       "  'Prize': 5,\n",
       "  'Quantity': 30,\n",
       "  'status': 'In-stock',\n",
       "  'Supplier': 'Nikhil'},\n",
       " 1013: {'Product': 'Bingo',\n",
       "  'Prize': 10,\n",
       "  'Quantity': 30,\n",
       "  'status': 'In-stock',\n",
       "  'Supplier': 'Niranjan'},\n",
       " 1014: {'Product': '50-50',\n",
       "  'Prize': 5,\n",
       "  'Quantity': 25,\n",
       "  'status': 'In-stock',\n",
       "  'Supplier': 'Anil'},\n",
       " 1015: {'Product': 'Dairy Milk',\n",
       "  'Prize': 50,\n",
       "  'Quantity': 20,\n",
       "  'status': 'In-stock',\n",
       "  'Supplier': 'Avinash'},\n",
       " 1016: {'Product': 'Hair Oil',\n",
       "  'Prize': 10,\n",
       "  'Quantity': 23,\n",
       "  'status': 'In-stocck',\n",
       "  'Supplier': 'Hilum'},\n",
       " 1017: {'Product': 'Comb',\n",
       "  'Prize': 15,\n",
       "  'Quantity': 20,\n",
       "  'status': 'In-stock',\n",
       "  'Supplier': 'Kelvin'},\n",
       " 1018: {'Product': 'Masala puri',\n",
       "  'Prize': 20,\n",
       "  'Quantity': 30,\n",
       "  'status': 'In-stock',\n",
       "  'Supplier': 'Chalie'},\n",
       " 1019: {'Product': 'Candy',\n",
       "  'Prize': 35,\n",
       "  'Quantity': 40,\n",
       "  'status': 'In-stock',\n",
       "  'Supplier': 'Devid'},\n",
       " 1020: {'Product': 'Almond',\n",
       "  'Prize': 20,\n",
       "  'Quantity': 25,\n",
       "  'status': 'In-stock',\n",
       "  'Supplier': 'Balu'},\n",
       " 1021: {'Product': 'Hair pin',\n",
       "  'Prize': 10,\n",
       "  'Quantity': 50,\n",
       "  'status': 'In-stock',\n",
       "  'Supplier': 'Hithesh'},\n",
       " 1022: {'Product': 'Facewash',\n",
       "  'Prize': 25,\n",
       "  'Quantity': 15,\n",
       "  'status': 'In-stock',\n",
       "  'Supplier': 'Nikhil'},\n",
       " 1023: {'Product': 'Charger',\n",
       "  'Prize': 205,\n",
       "  'Quantity': 10,\n",
       "  'status': 'In-stock',\n",
       "  'Supplier': 'Niranjan'},\n",
       " 1024: {'Product': 'Cashew',\n",
       "  'Prize': 10,\n",
       "  'Quantity': 50,\n",
       "  'status': 'In-stock',\n",
       "  'Supplier': 'Anil'},\n",
       " 1025: {'Product': 'Gooday',\n",
       "  'Prize': 10,\n",
       "  'Quantity': 30,\n",
       "  'status': 'In-stock',\n",
       "  'Supplier': 'Devid'},\n",
       " 1026: {'Product': 'Coffe powder',\n",
       "  'Prize': 25,\n",
       "  'Quantity': 60,\n",
       "  'status': 'In-stock',\n",
       "  'Supplier': 'Avinash'},\n",
       " 1027: {'Product': 'Turmeric powder',\n",
       "  'Prize': 15,\n",
       "  'Quantity': 25,\n",
       "  'status': 'In-stock',\n",
       "  'Supplier': 'Hilum'},\n",
       " 1028: {'Product': 'Chilli powder',\n",
       "  'Prize': 15,\n",
       "  'Quantity': 20,\n",
       "  'status': 'In-stock',\n",
       "  'Supplier': 'Kelvin'},\n",
       " 1029: {'Product': 'Refile oil',\n",
       "  'Prize': 25,\n",
       "  'Quantity': 30,\n",
       "  'status': 'In-stock',\n",
       "  'Supplier': 'Chalie'},\n",
       " 1030: {'Product': 'Glucose',\n",
       "  'Prize': 35,\n",
       "  'Quantity': 40,\n",
       "  'status': 'In-stock',\n",
       "  'Supplier': 'Devid'}}"
      ]
     },
     "execution_count": 36,
     "metadata": {},
     "output_type": "execute_result"
    }
   ],
   "source": [
    "inventory"
   ]
  },
  {
   "cell_type": "code",
   "execution_count": 37,
   "metadata": {},
   "outputs": [],
   "source": [
    "import json"
   ]
  },
  {
   "cell_type": "code",
   "execution_count": 38,
   "metadata": {},
   "outputs": [],
   "source": [
    " js=json.dumps(inventory)"
   ]
  },
  {
   "cell_type": "code",
   "execution_count": 39,
   "metadata": {
    "scrolled": true
   },
   "outputs": [
    {
     "data": {
      "text/plain": [
       "'{\"1000\": {\"Product\": \"5 start\", \"Prize\": 10, \"Quantity\": 50, \"status\": \"In-stock\", \"Supplier\": \"Hithesh\"}, \"1001\": {\"Product\": \"Lays\", \"Prize\": 5, \"Quantity\": 500, \"status\": \"In-stock\", \"Supplier\": \"Nikhil\"}, \"1002\": {\"Product\": \"Chips\", \"Prize\": 5, \"Quantity\": 100, \"status\": \"In-stock\", \"Supplier\": \"Niranjan\"}, \"1003\": {\"Product\": \"Coco kola\", \"Prize\": 55, \"Quantity\": 50, \"status\": \"In-stock\", \"Supplier\": \"Anil\"}, \"1004\": {\"Product\": \"Sprite\", \"Prize\": 45, \"Quantity\": 30, \"status\": \"In-stock\", \"Supplier\": \"Devid\"}, \"1005\": {\"Product\": \"Parle-G\", \"Prize\": 10, \"Quantity\": 60, \"status\": \"In-stock\", \"Supplier\": \"Avinash\"}, \"1006\": {\"Product\": \"Sunflower oil\", \"Prize\": 55, \"Quantity\": 60, \"status\": \"In-stock\", \"Supplier\": \"Hilum\"}, \"1007\": {\"Product\": \"Pista\", \"Prize\": 15, \"Quantity\": 20, \"status\": \"In-stock\", \"Supplier\": \"Kelvin\"}, \"1008\": {\"Product\": \"Coconut Oil\", \"Prize\": 25, \"Quantity\": 30, \"status\": \"In-stock\", \"Supplier\": \"Chalie\"}, \"1009\": {\"Product\": \"Jira oil\", \"Prize\": 35, \"Quantity\": 40, \"status\": \"In-stock\", \"Supplier\": \"Devid\"}, \"1010\": {\"Product\": \"20-20\", \"Prize\": 20, \"Quantity\": 23, \"status\": \"In-stock\", \"Supplier\": \"Balu\"}, \"1011\": {\"Product\": \"Nandini Milk\", \"Prize\": 22, \"Quantity\": 25, \"status\": \"In-stock\", \"Supplier\": \"Hithesh\"}, \"1012\": {\"Product\": \"Kurukure\", \"Prize\": 5, \"Quantity\": 30, \"status\": \"In-stock\", \"Supplier\": \"Nikhil\"}, \"1013\": {\"Product\": \"Bingo\", \"Prize\": 10, \"Quantity\": 30, \"status\": \"In-stock\", \"Supplier\": \"Niranjan\"}, \"1014\": {\"Product\": \"50-50\", \"Prize\": 5, \"Quantity\": 25, \"status\": \"In-stock\", \"Supplier\": \"Anil\"}, \"1015\": {\"Product\": \"Dairy Milk\", \"Prize\": 50, \"Quantity\": 20, \"status\": \"In-stock\", \"Supplier\": \"Avinash\"}, \"1016\": {\"Product\": \"Hair Oil\", \"Prize\": 10, \"Quantity\": 23, \"status\": \"In-stocck\", \"Supplier\": \"Hilum\"}, \"1017\": {\"Product\": \"Comb\", \"Prize\": 15, \"Quantity\": 20, \"status\": \"In-stock\", \"Supplier\": \"Kelvin\"}, \"1018\": {\"Product\": \"Masala puri\", \"Prize\": 20, \"Quantity\": 30, \"status\": \"In-stock\", \"Supplier\": \"Chalie\"}, \"1019\": {\"Product\": \"Candy\", \"Prize\": 35, \"Quantity\": 40, \"status\": \"In-stock\", \"Supplier\": \"Devid\"}, \"1020\": {\"Product\": \"Almond\", \"Prize\": 20, \"Quantity\": 25, \"status\": \"In-stock\", \"Supplier\": \"Balu\"}, \"1021\": {\"Product\": \"Hair pin\", \"Prize\": 10, \"Quantity\": 50, \"status\": \"In-stock\", \"Supplier\": \"Hithesh\"}, \"1022\": {\"Product\": \"Facewash\", \"Prize\": 25, \"Quantity\": 15, \"status\": \"In-stock\", \"Supplier\": \"Nikhil\"}, \"1023\": {\"Product\": \"Charger\", \"Prize\": 205, \"Quantity\": 10, \"status\": \"In-stock\", \"Supplier\": \"Niranjan\"}, \"1024\": {\"Product\": \"Cashew\", \"Prize\": 10, \"Quantity\": 50, \"status\": \"In-stock\", \"Supplier\": \"Anil\"}, \"1025\": {\"Product\": \"Gooday\", \"Prize\": 10, \"Quantity\": 30, \"status\": \"In-stock\", \"Supplier\": \"Devid\"}, \"1026\": {\"Product\": \"Coffe powder\", \"Prize\": 25, \"Quantity\": 60, \"status\": \"In-stock\", \"Supplier\": \"Avinash\"}, \"1027\": {\"Product\": \"Turmeric powder\", \"Prize\": 15, \"Quantity\": 25, \"status\": \"In-stock\", \"Supplier\": \"Hilum\"}, \"1028\": {\"Product\": \"Chilli powder\", \"Prize\": 15, \"Quantity\": 20, \"status\": \"In-stock\", \"Supplier\": \"Kelvin\"}, \"1029\": {\"Product\": \"Refile oil\", \"Prize\": 25, \"Quantity\": 30, \"status\": \"In-stock\", \"Supplier\": \"Chalie\"}, \"1030\": {\"Product\": \"Glucose\", \"Prize\": 35, \"Quantity\": 40, \"status\": \"In-stock\", \"Supplier\": \"Devid\"}}'"
      ]
     },
     "execution_count": 39,
     "metadata": {},
     "output_type": "execute_result"
    }
   ],
   "source": [
    "js"
   ]
  },
  {
   "cell_type": "code",
   "execution_count": 61,
   "metadata": {},
   "outputs": [],
   "source": [
    "fd=open(\"record.json\",\"w\")\n",
    "fd.write(js)\n",
    "fd.close()"
   ]
  },
  {
   "cell_type": "code",
   "execution_count": null,
   "metadata": {},
   "outputs": [],
   "source": []
  },
  {
   "cell_type": "code",
   "execution_count": 55,
   "metadata": {},
   "outputs": [],
   "source": [
    "fd=open('record.json',\"r\")\n",
    "txt=fd.read()\n",
    "fd.close()"
   ]
  },
  {
   "cell_type": "code",
   "execution_count": 56,
   "metadata": {},
   "outputs": [
    {
     "data": {
      "text/plain": [
       "'{\"1000\": {\"Product\": \"5 start\", \"Prize\": 10, \"Quantity\": 50, \"status\": \"In-stock\", \"Supplier\": \"Hithesh\"}, \"1001\": {\"Product\": \"Lays\", \"Prize\": 5, \"Quantity\": 490, \"status\": \"In-stock\", \"Supplier\": \"Nikhil\"}, \"1002\": {\"Product\": \"Chips\", \"Prize\": 5, \"Quantity\": 100, \"status\": \"In-stock\", \"Supplier\": \"Niranjan\"}, \"1003\": {\"Product\": \"Coco kola\", \"Prize\": 55, \"Quantity\": 50, \"status\": \"In-stock\", \"Supplier\": \"Anil\"}, \"1004\": {\"Product\": \"Sprite\", \"Prize\": 45, \"Quantity\": 30, \"status\": \"In-stock\", \"Supplier\": \"Devid\"}, \"1005\": {\"Product\": \"Parle-G\", \"Prize\": 10, \"Quantity\": 60, \"status\": \"In-stock\", \"Supplier\": \"Avinash\"}, \"1006\": {\"Product\": \"Sunflower oil\", \"Prize\": 55, \"Quantity\": 60, \"status\": \"In-stock\", \"Supplier\": \"Hilum\"}, \"1007\": {\"Product\": \"Pista\", \"Prize\": 15, \"Quantity\": 20, \"status\": \"In-stock\", \"Supplier\": \"Kelvin\"}, \"1008\": {\"Product\": \"Coconut Oil\", \"Prize\": 25, \"Quantity\": 30, \"status\": \"In-stock\", \"Supplier\": \"Chalie\"}, \"1009\": {\"Product\": \"Jira oil\", \"Prize\": 35, \"Quantity\": 40, \"status\": \"In-stock\", \"Supplier\": \"Devid\"}, \"1010\": {\"Product\": \"20-20\", \"Prize\": 20, \"Quantity\": 18, \"status\": \"In-stock\", \"Supplier\": \"Balu\"}, \"1011\": {\"Product\": \"Nandini Milk\", \"Prize\": 22, \"Quantity\": 25, \"status\": \"In-stock\", \"Supplier\": \"Hithesh\"}, \"1012\": {\"Product\": \"Kurukure\", \"Prize\": 5, \"Quantity\": 30, \"status\": \"In-stock\", \"Supplier\": \"Nikhil\"}, \"1013\": {\"Product\": \"Bingo\", \"Prize\": 10, \"Quantity\": 30, \"status\": \"In-stock\", \"Supplier\": \"Niranjan\"}, \"1014\": {\"Product\": \"50-50\", \"Prize\": 5, \"Quantity\": 25, \"status\": \"In-stock\", \"Supplier\": \"Anil\"}, \"1015\": {\"Product\": \"Dairy Milk\", \"Prize\": 50, \"Quantity\": 18, \"status\": \"In-stock\", \"Supplier\": \"Avinash\"}, \"1016\": {\"Product\": \"Hair Oil\", \"Prize\": 10, \"Quantity\": 23, \"status\": \"In-stocck\", \"Supplier\": \"Hilum\"}, \"1017\": {\"Product\": \"Comb\", \"Prize\": 15, \"Quantity\": 20, \"status\": \"In-stock\", \"Supplier\": \"Kelvin\"}, \"1018\": {\"Product\": \"Masala puri\", \"Prize\": 20, \"Quantity\": 30, \"status\": \"In-stock\", \"Supplier\": \"Chalie\"}, \"1019\": {\"Product\": \"Candy\", \"Prize\": 35, \"Quantity\": 40, \"status\": \"In-stock\", \"Supplier\": \"Devid\"}, \"1020\": {\"Product\": \"Almond\", \"Prize\": 20, \"Quantity\": 25, \"status\": \"In-stock\", \"Supplier\": \"Balu\"}, \"1021\": {\"Product\": \"Hair pin\", \"Prize\": 10, \"Quantity\": 50, \"status\": \"In-stock\", \"Supplier\": \"Hithesh\"}, \"1022\": {\"Product\": \"Facewash\", \"Prize\": 25, \"Quantity\": 15, \"status\": \"In-stock\", \"Supplier\": \"Nikhil\"}, \"1023\": {\"Product\": \"Charger\", \"Prize\": 205, \"Quantity\": 10, \"status\": \"In-stock\", \"Supplier\": \"Niranjan\"}, \"1024\": {\"Product\": \"Cashew\", \"Prize\": 10, \"Quantity\": 50, \"status\": \"In-stock\", \"Supplier\": \"Anil\"}, \"1025\": {\"Product\": \"Gooday\", \"Prize\": 10, \"Quantity\": 23, \"status\": \"In-stock\", \"Supplier\": \"Devid\"}, \"1026\": {\"Product\": \"Coffe powder\", \"Prize\": 25, \"Quantity\": 60, \"status\": \"In-stock\", \"Supplier\": \"Avinash\"}, \"1027\": {\"Product\": \"Turmeric powder\", \"Prize\": 15, \"Quantity\": 25, \"status\": \"In-stock\", \"Supplier\": \"Hilum\"}, \"1028\": {\"Product\": \"Chilli powder\", \"Prize\": 15, \"Quantity\": 20, \"status\": \"In-stock\", \"Supplier\": \"Kelvin\"}, \"1029\": {\"Product\": \"Refile oil\", \"Prize\": 25, \"Quantity\": 30, \"status\": \"In-stock\", \"Supplier\": \"Chalie\"}, \"1030\": {\"Product\": \"Glucose\", \"Prize\": 35, \"Quantity\": 35, \"status\": \"In-stock\", \"Supplier\": \"Devid\"}}\\n----------------------------------------------------\\n\\nGrand Total------------------ 275'"
      ]
     },
     "execution_count": 56,
     "metadata": {},
     "output_type": "execute_result"
    }
   ],
   "source": [
    "txt"
   ]
  },
  {
   "cell_type": "code",
   "execution_count": null,
   "metadata": {
    "scrolled": true
   },
   "outputs": [],
   "source": []
  },
  {
   "cell_type": "code",
   "execution_count": null,
   "metadata": {},
   "outputs": [],
   "source": []
  },
  {
   "cell_type": "code",
   "execution_count": 13,
   "metadata": {},
   "outputs": [],
   "source": []
  },
  {
   "cell_type": "code",
   "execution_count": 43,
   "metadata": {
    "scrolled": true
   },
   "outputs": [
    {
     "name": "stdout",
     "output_type": "stream",
     "text": [
      "Enter the product id: 1031\n",
      "This pid already exist.Pls take another!!\n",
      "Enter the product id: 1032\n",
      "Enter the new product :Clinic plus\n",
      "Enter the unit prize of the product :1\n",
      "Enter the quantity of the product arrived :100\n",
      "Enter the supplier name :Nithesh\n",
      "If u have to add new item then press Y else press N\n",
      "Enter Y/N N\n"
     ]
    }
   ],
   "source": [
    "#Adding New Items to Inventory\n",
    "\n",
    "status=True\n",
    "while status:\n",
    "    pid=int(input(\"Enter the product id: \"))\n",
    "    if(pid in inventory):\n",
    "        print(\"This pid already exist.Pls take another!!\")\n",
    "        continue\n",
    "    product=input(\"Enter the new product :\")\n",
    "    prize=int(input(\"Enter the unit prize of the product :\"))\n",
    "    qty=int(input(\"Enter the quantity of the product arrived :\"))\n",
    "    supplier=input(\"Enter the supplier name :\")\n",
    "    inventory[pid]={\"Product\":product,'Prize':prize,'Quantity':qty,'status':\"In-stock\",\"Suplier\":supplier}\n",
    "    js=json.dumps(inventory)\n",
    "    fd=open(\"record.json\",\"w\")\n",
    "    fd.write(js)\n",
    "    fd.close()\n",
    "    print(\"If u have to add new item then press Y else press N\")\n",
    "    status=input(\"Enter Y/N \")\n",
    "    if status=='Y':\n",
    "        continue\n",
    "    else:\n",
    "        status=False\n",
    "    "
   ]
  },
  {
   "cell_type": "code",
   "execution_count": 45,
   "metadata": {},
   "outputs": [],
   "source": []
  },
  {
   "cell_type": "code",
   "execution_count": null,
   "metadata": {},
   "outputs": [],
   "source": [
    "\n"
   ]
  },
  {
   "cell_type": "code",
   "execution_count": 48,
   "metadata": {},
   "outputs": [
    {
     "name": "stdout",
     "output_type": "stream",
     "text": [
      "Enter the product id to delete the product from the inventory: 1031\n",
      "Invalid pid!!\n"
     ]
    }
   ],
   "source": [
    "#Deletig item from inventory\n",
    "\n",
    "while True:\n",
    "    pid=int(input(\"Enter the product id to delete the product from the inventory: \"))\n",
    "    if pid in inventory:\n",
    "        inventory.pop(pid)\n",
    "        print(\"{} is removed from the inventory successfully!!!\".format(inventory[pid][\"Product\"]))\n",
    "        js=json.dumps(inventory)\n",
    "        fd=open(\"record.json\",\"w\")\n",
    "        fd.write(js)\n",
    "        fd.close()\n",
    "        status=input(\"If u want to add item then press Y else press N :\")\n",
    "        if(status=='Y'):\n",
    "            continue\n",
    "        else:\n",
    "            break\n",
    "    else:\n",
    "        print(\"Invalid pid!! Try Again...\")\n",
    "        continue\n"
   ]
  },
  {
   "cell_type": "code",
   "execution_count": null,
   "metadata": {},
   "outputs": [],
   "source": [
    "#Adding quantity of an item \n",
    "\n",
    "pid=int(input(\"Enter the pid of an item\"))\n",
    "qty=int(input(\"Enter the quantity to be added\"))\n",
    "inventory[pid][\"Quantity\"]+=qty\n",
    "js=json.dumps(inventory)\n",
    "fd=open(\"record.json\",\"w\")\n",
    "fd.write(js)\n",
    "fd.close()"
   ]
  },
  {
   "cell_type": "code",
   "execution_count": null,
   "metadata": {},
   "outputs": [],
   "source": [
    "inventory"
   ]
  },
  {
   "cell_type": "code",
   "execution_count": null,
   "metadata": {},
   "outputs": [],
   "source": [
    "#Deleting product quntity from inventory\n",
    "\n",
    "pid=int(input(\"enter pid of an product: \"))\n",
    "qty=int(input(\"Enter the number of quantity to be removed: \"))\n",
    "inventory[pid][\"Quantity\"]-=qty\n",
    "js=json.dumps(inventory)\n",
    "fd=open(\"record.json\",\"w\")\n",
    "fd.write(js)\n",
    "fd.close()"
   ]
  },
  {
   "cell_type": "code",
   "execution_count": null,
   "metadata": {},
   "outputs": [],
   "source": []
  },
  {
   "cell_type": "code",
   "execution_count": null,
   "metadata": {},
   "outputs": [],
   "source": []
  },
  {
   "cell_type": "code",
   "execution_count": 73,
   "metadata": {},
   "outputs": [
    {
     "name": "stdout",
     "output_type": "stream",
     "text": [
      "Enter the pid of an item: 1000\n",
      "Enter the number of quantity purchased : 5\n",
      "If u want to add item then press Y else press N :N\n"
     ]
    }
   ],
   "source": [
    "import json\n",
    "status=True\n",
    "i=1\n",
    "sum=0\n",
    "fd=open(\"Bill_sheet.txt\",\"w\")\n",
    "fd.write('~~~~~~~~~~~~~~~~~~~~~~!!CONVENiENCE STORE MANGALORE!!~~~~~~~~~~~~~~~~~~~~~~\\n\\n')\n",
    "#fd.write('\"\"\"\"\"\"\"\"\"\"\"\"\"\"\"\"\"\"\"\"\"\"\"\"\"\"\"\"\"\"\"\"\"\"\"\"\"\"\"\"\"\"\"\"\"\"\"\"\"\"\"\"\"\"\"\"\"\"\"\"\"\"\"\"\\n')\n",
    "fd.write(\"S.N\\t\\t\\tItem\\t\\t\\tQty\\t\\t\\tPrize\\t\\t\\ttotal\\n\")\n",
    "fd.write('\\n\"\"\"\"\"\"\"\"\"\"\"\"\"\"\"\"\"\"\"\"\"\"\"\"\"\"\"\"\"\"\"\"\"\"\"\"\"\"\"\"\"\"\"\"\"\"\"\"\"\"\"\"\"\"\"\"\"\"\"\"\"\"\"\"\"\"\"\"\"\"\\n')\n",
    "\n",
    "while True:\n",
    "    pid=int(input(\"Enter the pid of an item: \"))\n",
    "    if(pid not in inventory):\n",
    "        print(\"Invalid pid!!\")\n",
    "        continue\n",
    "    elif inventory[pid][\"Quantity\"]==0:\n",
    "        printf(\"Product is empty...\")\n",
    "        break\n",
    "    \n",
    "    qty=int(input(\"Enter the number of quantity purchased : \"))\n",
    "    fd.write(\"\\n\"+str(i)+\".\\t\\t\\t\"+ str(inventory[pid][\"Product\"])+\"\\t\\t\\t\"+str(qty)+\"\\t\\t\\t\" +str(inventory[pid][\"Prize\"])+\"\\t\\t\\t\\t\"+str(inventory[pid][\"Prize\"]*qty)+\"\\n\\n\")\n",
    "    \n",
    "   \n",
    "    inventory[pid][\"Quantity\"]-=qty\n",
    "   \n",
    "    js=json.dumps(inventory)\n",
    "    fw=open(\"record.json\",\"w\")\n",
    "    fw.write(js)\n",
    "    fw.close()\n",
    "    \n",
    "    sum=sum+inventory[pid][\"Prize\"]*qty\n",
    " \n",
    "    status=input(\"If u want to add item then press Y else press N :\")\n",
    "    if(status=='Y'):\n",
    "        i+=1\n",
    "        continue\n",
    "    else:\n",
    "        break\n",
    "\n",
    "fd.write(\"\\n-----------------------------------------------------------------------\\n\")\n",
    "fd.write(\"\\nGrand Total------------------------------------ \"+str(sum))\n",
    "fd.close()\n"
   ]
  },
  {
   "cell_type": "code",
   "execution_count": null,
   "metadata": {},
   "outputs": [],
   "source": [
    "\n"
   ]
  },
  {
   "cell_type": "code",
   "execution_count": null,
   "metadata": {},
   "outputs": [],
   "source": []
  }
 ],
 "metadata": {
  "kernelspec": {
   "display_name": "Python 3",
   "language": "python",
   "name": "python3"
  },
  "language_info": {
   "codemirror_mode": {
    "name": "ipython",
    "version": 3
   },
   "file_extension": ".py",
   "mimetype": "text/x-python",
   "name": "python",
   "nbconvert_exporter": "python",
   "pygments_lexer": "ipython3",
   "version": "3.7.4"
  }
 },
 "nbformat": 4,
 "nbformat_minor": 2
}
